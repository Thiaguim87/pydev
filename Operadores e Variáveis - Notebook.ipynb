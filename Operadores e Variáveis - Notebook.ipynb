{
 "cells": [
  {
   "cell_type": "markdown",
   "id": "0795eee7-d69a-4b7c-aa34-44d6ed6f21a7",
   "metadata": {
    "tags": []
   },
   "source": [
    " # *Operadores e Variáveis*"
   ]
  },
  {
   "cell_type": "markdown",
   "id": "2da2efa1-66f5-46f3-8f90-8a186514d6ad",
   "metadata": {
    "tags": []
   },
   "source": [
    "# - Variáveis:\n",
    " #### Assim como na matemática, no Python temos variáveis.\n",
    " #### Uma variável é um tipo de dado cujo os valores podem ser alterados dependendo da necessidade.\n",
    " #### Para criarmos uma variável no Python utilizamos a seguinte estrutura:\n",
    " #### nome da variável = valor que ela recebe"
   ]
  },
  {
   "cell_type": "code",
   "execution_count": 1,
   "id": "7bb55cab-1581-44fe-b438-37921e54504c",
   "metadata": {},
   "outputs": [],
   "source": [
    "x = 10 # Temos uma variável x que recebe o valor 10 "
   ]
  },
  {
   "cell_type": "code",
   "execution_count": 2,
   "id": "8ed2bfed-3801-4ae3-a11c-4e671dc0e5f3",
   "metadata": {},
   "outputs": [],
   "source": [
    "x = 'a' # Aqui temos a mesma variável x recebendo outro valor"
   ]
  },
  {
   "cell_type": "markdown",
   "id": "42862e67-ea13-40bb-8f1f-282097f85a12",
   "metadata": {},
   "source": [
    "## No Python temos diferentes tipos de dados que serão abordados a seguir.\n",
    "\n",
    "### String:\n",
    "#### No Python as strings são reconhecidas como textos\n",
    "#### A string tem a seguinte forma:\n",
    "#### 'digite o seu texto' ou \"digite o seu texto\""
   ]
  },
  {
   "cell_type": "code",
   "execution_count": 3,
   "id": "09a1f08c-8d20-4a35-af7d-dca9d3f51134",
   "metadata": {},
   "outputs": [
    {
     "data": {
      "text/plain": [
       "'Olá mundo'"
      ]
     },
     "execution_count": 3,
     "metadata": {},
     "output_type": "execute_result"
    }
   ],
   "source": [
    "'Olá mundo' "
   ]
  },
  {
   "cell_type": "markdown",
   "id": "faec7306-5949-4e37-ac98-b599692981d0",
   "metadata": {},
   "source": [
    "## Para mostrar os dados na tela, utilizamos o print() da seguinte forma:\n",
    "### print(dado)"
   ]
  },
  {
   "cell_type": "code",
   "execution_count": 4,
   "id": "246f1137-72bf-4e23-85d5-7ca6c1222db9",
   "metadata": {},
   "outputs": [
    {
     "name": "stdout",
     "output_type": "stream",
     "text": [
      "Olá Mundo\n"
     ]
    }
   ],
   "source": [
    "print(\"Olá Mundo\")"
   ]
  },
  {
   "cell_type": "markdown",
   "id": "3dd69418-f686-41ab-82a5-fcc364c3b382",
   "metadata": {},
   "source": [
    "## Para identificar o tipo de dado de uma variável utilizamos type() da seguinte forma:\n",
    "### type(dado)"
   ]
  },
  {
   "cell_type": "code",
   "execution_count": 5,
   "id": "a1ee12b7-a1cb-40c8-b4c2-d6ed142ec692",
   "metadata": {},
   "outputs": [],
   "source": [
    "s = 'Olá mundo'"
   ]
  },
  {
   "cell_type": "code",
   "execution_count": 6,
   "id": "9e0db3ac-6cd9-4539-956c-56ce7c4ffd5b",
   "metadata": {},
   "outputs": [
    {
     "data": {
      "text/plain": [
       "str"
      ]
     },
     "execution_count": 6,
     "metadata": {},
     "output_type": "execute_result"
    }
   ],
   "source": [
    "type(s)"
   ]
  },
  {
   "cell_type": "markdown",
   "id": "d08901d2-3509-4ba9-a065-613781349b2f",
   "metadata": {},
   "source": [
    "## Nós temos alguns métodos que utilizamos com strings"
   ]
  },
  {
   "cell_type": "code",
   "execution_count": 7,
   "id": "2421d0a0-cd04-4534-bb82-ae051376c534",
   "metadata": {},
   "outputs": [
    {
     "name": "stdout",
     "output_type": "stream",
     "text": [
      "Olá mundo\n"
     ]
    }
   ],
   "source": [
    "print('olá mundo'.capitalize()) # \".capitalize()\" deixa a primeira letra da string maiúsula "
   ]
  },
  {
   "cell_type": "code",
   "execution_count": 8,
   "id": "411f6cbb-ef77-47a1-9035-df5384100f54",
   "metadata": {},
   "outputs": [
    {
     "name": "stdout",
     "output_type": "stream",
     "text": [
      "OLÁ MUNDO\n"
     ]
    }
   ],
   "source": [
    "print('olá mundo'.upper()) # \".upper()\" deixa a string maiúsula "
   ]
  },
  {
   "cell_type": "code",
   "execution_count": 9,
   "id": "953072dd-6e67-4b05-a0b6-2fb4c08048c7",
   "metadata": {},
   "outputs": [
    {
     "name": "stdout",
     "output_type": "stream",
     "text": [
      "olá mundo\n"
     ]
    }
   ],
   "source": [
    "print('OLÁ MUNDO'.lower()) # \".lower()\" deixa a  string minúscula "
   ]
  },
  {
   "cell_type": "code",
   "execution_count": 10,
   "id": "d191f333-66be-4f97-8810-23c36d84dabd",
   "metadata": {},
   "outputs": [
    {
     "name": "stdout",
     "output_type": "stream",
     "text": [
      "9\n"
     ]
    }
   ],
   "source": [
    "print(len(s)) # para contar caracteres de uma string utilizamos len()"
   ]
  },
  {
   "cell_type": "markdown",
   "id": "896b72f0-70b8-4cc5-9cb3-f794db4cb3fb",
   "metadata": {},
   "source": [
    "## Para juntar strings utilizamos os seguintes métodos:"
   ]
  },
  {
   "cell_type": "code",
   "execution_count": 11,
   "id": "11ce1acc-b44c-40d1-9d39-52d1cb01e69a",
   "metadata": {},
   "outputs": [
    {
     "name": "stdout",
     "output_type": "stream",
     "text": [
      "Olá mundoestou aqui\n"
     ]
    }
   ],
   "source": [
    "a = 'Olá mundo'\n",
    "b = 'estou aqui'\n",
    "\n",
    "print(a + b)"
   ]
  },
  {
   "cell_type": "code",
   "execution_count": 12,
   "id": "a137b545-de5b-4e28-b266-806b0105c725",
   "metadata": {},
   "outputs": [
    {
     "name": "stdout",
     "output_type": "stream",
     "text": [
      "Olá mundo estou aqui\n"
     ]
    }
   ],
   "source": [
    "print(a,b)"
   ]
  },
  {
   "cell_type": "code",
   "execution_count": 13,
   "id": "6ee09786-420b-4cb9-beb2-c9342bc749d8",
   "metadata": {},
   "outputs": [
    {
     "name": "stdout",
     "output_type": "stream",
     "text": [
      "Olá mundo estou aqui\n"
     ]
    }
   ],
   "source": [
    "print('Olá mundo {}'.format(b))"
   ]
  },
  {
   "cell_type": "code",
   "execution_count": 14,
   "id": "64aa056f-c704-42d9-9c3e-2f18454c7188",
   "metadata": {},
   "outputs": [
    {
     "name": "stdout",
     "output_type": "stream",
     "text": [
      "Olá mundo estou aqui\n"
     ]
    }
   ],
   "source": [
    "print(f'Olá mundo {b}')"
   ]
  },
  {
   "cell_type": "markdown",
   "id": "d3d11e0c-6055-482a-82d2-4bfc5537afb0",
   "metadata": {
    "tags": []
   },
   "source": [
    "## Podemos pedir dados do usuário utilizando o método input() e então juntar esses dados a uma string"
   ]
  },
  {
   "cell_type": "code",
   "execution_count": 15,
   "id": "a771125a-ef5e-495f-8d56-5dcfcd8ed3fc",
   "metadata": {},
   "outputs": [
    {
     "name": "stdin",
     "output_type": "stream",
     "text": [
      "Qual é o seu nome?  x\n"
     ]
    }
   ],
   "source": [
    "w = input('Qual é o seu nome? ')"
   ]
  },
  {
   "cell_type": "code",
   "execution_count": 16,
   "id": "f991a2b4-f807-4ace-9175-fe74e2f91a02",
   "metadata": {},
   "outputs": [
    {
     "name": "stdout",
     "output_type": "stream",
     "text": [
      "Olá x\n"
     ]
    }
   ],
   "source": [
    "print(f'Olá {w}')"
   ]
  },
  {
   "cell_type": "markdown",
   "id": "7a50fdfa-7109-45b0-977b-22b273861fd9",
   "metadata": {},
   "source": [
    "## É possível criar listas, que são grupos de dados, a partir de uma string com o método list()"
   ]
  },
  {
   "cell_type": "code",
   "execution_count": 17,
   "id": "f025bd01-6b21-4675-b5eb-1ff443a57169",
   "metadata": {},
   "outputs": [
    {
     "name": "stdout",
     "output_type": "stream",
     "text": [
      "['O', 'l', 'á', ' ', 'm', 'u', 'n', 'd', 'o']\n"
     ]
    }
   ],
   "source": [
    "print(list(s))"
   ]
  },
  {
   "cell_type": "markdown",
   "id": "163dcd87-3825-4f70-b7fa-90a1271a4c7d",
   "metadata": {},
   "source": [
    "## Utilizamos .split() para dividir uma string em palavras"
   ]
  },
  {
   "cell_type": "code",
   "execution_count": 18,
   "id": "c924b05d-2452-423b-8b15-eaa9d8c068f5",
   "metadata": {},
   "outputs": [
    {
     "name": "stdout",
     "output_type": "stream",
     "text": [
      "['Olá', 'mundo']\n"
     ]
    }
   ],
   "source": [
    "print(s.split())"
   ]
  },
  {
   "cell_type": "code",
   "execution_count": 19,
   "id": "263e97a8-e99c-443d-8e14-58b4f8c9a11d",
   "metadata": {},
   "outputs": [],
   "source": [
    "l = s.split()"
   ]
  },
  {
   "cell_type": "code",
   "execution_count": 20,
   "id": "77c7e623-d17d-4684-9531-9e8dcc406001",
   "metadata": {},
   "outputs": [
    {
     "name": "stdout",
     "output_type": "stream",
     "text": [
      "2\n"
     ]
    }
   ],
   "source": [
    "print(len(l))"
   ]
  },
  {
   "cell_type": "markdown",
   "id": "8551b433-41e5-4943-8038-5e46c8e93e3b",
   "metadata": {},
   "source": [
    "## Podemos extrair dados de uma lista"
   ]
  },
  {
   "cell_type": "code",
   "execution_count": 21,
   "id": "93315463-c04c-4281-88c1-8839334a3770",
   "metadata": {},
   "outputs": [
    {
     "name": "stdin",
     "output_type": "stream",
     "text": [
      "Qual é o seu nome?  x\n",
      "Qual é a sua idade?  15\n"
     ]
    }
   ],
   "source": [
    "nome = input('Qual é o seu nome? ')\n",
    "idade = input('Qual é a sua idade? ')"
   ]
  },
  {
   "cell_type": "code",
   "execution_count": 22,
   "id": "74e3b342-c357-408d-a624-7ac247334bc1",
   "metadata": {},
   "outputs": [],
   "source": [
    "dados = [nome, idade]"
   ]
  },
  {
   "cell_type": "code",
   "execution_count": 23,
   "id": "117a249b-3f78-4993-81c2-79a6730f8bb4",
   "metadata": {},
   "outputs": [
    {
     "name": "stdout",
     "output_type": "stream",
     "text": [
      "['x', '15']\n"
     ]
    }
   ],
   "source": [
    "print(dados)"
   ]
  },
  {
   "cell_type": "code",
   "execution_count": 24,
   "id": "a0255a23-a3b5-4c67-9a61-aca46f82fc75",
   "metadata": {},
   "outputs": [
    {
     "name": "stdout",
     "output_type": "stream",
     "text": [
      "Olá x você tem 15\n"
     ]
    }
   ],
   "source": [
    "print(f'Olá {dados[0]} você tem {dados[1]}')"
   ]
  },
  {
   "cell_type": "markdown",
   "id": "d9b34625-8d7c-4631-8e4c-d84762dd3073",
   "metadata": {},
   "source": [
    "### Int e Float:\n",
    "#### No Python há dois tipos de números: inteiros e floats\n",
    "#### Números inteiros no Python são do tipo int\n",
    "#### Floats são os números decimais e são do tipo float"
   ]
  },
  {
   "cell_type": "code",
   "execution_count": 25,
   "id": "2a67ddb8-ba98-4ba2-b8c4-101243505dd1",
   "metadata": {},
   "outputs": [
    {
     "data": {
      "text/plain": [
       "str"
      ]
     },
     "execution_count": 25,
     "metadata": {},
     "output_type": "execute_result"
    }
   ],
   "source": [
    "n = 2\n",
    "u = '123'\n",
    "\n",
    "\n",
    "type(u)"
   ]
  },
  {
   "cell_type": "code",
   "execution_count": 26,
   "id": "01fa2093-780a-4cd3-b5a8-386dbf07ec6d",
   "metadata": {},
   "outputs": [
    {
     "data": {
      "text/plain": [
       "int"
      ]
     },
     "execution_count": 26,
     "metadata": {},
     "output_type": "execute_result"
    }
   ],
   "source": [
    "type(n)"
   ]
  },
  {
   "cell_type": "code",
   "execution_count": 27,
   "id": "72906bff-2309-42ec-9886-57fe32bb68c7",
   "metadata": {},
   "outputs": [],
   "source": [
    "d = 1.5"
   ]
  },
  {
   "cell_type": "code",
   "execution_count": 28,
   "id": "115e4f0c-b90e-4150-8452-0d59eeb9a6ed",
   "metadata": {},
   "outputs": [
    {
     "data": {
      "text/plain": [
       "float"
      ]
     },
     "execution_count": 28,
     "metadata": {},
     "output_type": "execute_result"
    }
   ],
   "source": [
    "type(d)"
   ]
  },
  {
   "cell_type": "markdown",
   "id": "41626c64-4f34-47eb-a04d-f5bbcf8e2d66",
   "metadata": {},
   "source": [
    "# - Operadores:\n",
    "### No Python existem diversos tipos de operadores.\n",
    "### Eles servem para fazer calculos e comparações"
   ]
  },
  {
   "cell_type": "code",
   "execution_count": 29,
   "id": "90b17cd9-5c4d-4348-8b27-2a13ba367c15",
   "metadata": {},
   "outputs": [
    {
     "name": "stdout",
     "output_type": "stream",
     "text": [
      "2\n"
     ]
    }
   ],
   "source": [
    "print(1+1) "
   ]
  },
  {
   "cell_type": "code",
   "execution_count": 30,
   "id": "369e4a17-a282-48ea-bcd5-ccd27911f6a0",
   "metadata": {},
   "outputs": [
    {
     "name": "stdout",
     "output_type": "stream",
     "text": [
      "-4\n"
     ]
    }
   ],
   "source": [
    "print(1-5)"
   ]
  },
  {
   "cell_type": "code",
   "execution_count": 31,
   "id": "3161a27b-7f70-4d2b-a1e1-3fec10bc5f51",
   "metadata": {},
   "outputs": [
    {
     "name": "stdout",
     "output_type": "stream",
     "text": [
      "10\n"
     ]
    }
   ],
   "source": [
    "print(2*5)"
   ]
  },
  {
   "cell_type": "code",
   "execution_count": 32,
   "id": "ca40a81e-2fbe-4ef8-bb6d-0b04f91cfe6f",
   "metadata": {},
   "outputs": [
    {
     "name": "stdout",
     "output_type": "stream",
     "text": [
      "5.0\n"
     ]
    }
   ],
   "source": [
    "print(10/2)"
   ]
  },
  {
   "cell_type": "code",
   "execution_count": 33,
   "id": "f85c17c9-c8e9-4a5f-8738-ee9594c48a2a",
   "metadata": {},
   "outputs": [
    {
     "name": "stdout",
     "output_type": "stream",
     "text": [
      "5\n"
     ]
    }
   ],
   "source": [
    "print(10//2)"
   ]
  },
  {
   "cell_type": "code",
   "execution_count": 34,
   "id": "65f40c23-5c5f-47cf-9981-0cbdb09860e2",
   "metadata": {},
   "outputs": [
    {
     "name": "stdout",
     "output_type": "stream",
     "text": [
      "25\n"
     ]
    }
   ],
   "source": [
    "print(5**2) # = 5²"
   ]
  },
  {
   "cell_type": "code",
   "execution_count": 35,
   "id": "8fc6549a-e84f-4ff7-88f9-8d25b0465b61",
   "metadata": {},
   "outputs": [
    {
     "name": "stdout",
     "output_type": "stream",
     "text": [
      "3.0\n"
     ]
    }
   ],
   "source": [
    "print(9**0.5) # = √9"
   ]
  },
  {
   "cell_type": "code",
   "execution_count": 36,
   "id": "8a7c981e-58ea-4565-b96d-ad4e4c6b6f79",
   "metadata": {},
   "outputs": [],
   "source": [
    "a = 1"
   ]
  },
  {
   "cell_type": "code",
   "execution_count": 37,
   "id": "43232d2d-67f7-4a7b-bafd-3d19da86e542",
   "metadata": {},
   "outputs": [],
   "source": [
    "a = a + 5"
   ]
  },
  {
   "cell_type": "code",
   "execution_count": 38,
   "id": "d8ee0138-e310-4e04-ab02-33344b2c6fe3",
   "metadata": {},
   "outputs": [
    {
     "name": "stdout",
     "output_type": "stream",
     "text": [
      "6\n"
     ]
    }
   ],
   "source": [
    "print(a)"
   ]
  },
  {
   "cell_type": "code",
   "execution_count": 39,
   "id": "bc149795-dcd9-404a-a171-44354235fe96",
   "metadata": {},
   "outputs": [],
   "source": [
    "a +=5"
   ]
  },
  {
   "cell_type": "code",
   "execution_count": 40,
   "id": "bd9dae82-6e4a-44a4-82bd-033e226cfefa",
   "metadata": {},
   "outputs": [
    {
     "name": "stdout",
     "output_type": "stream",
     "text": [
      "11\n"
     ]
    }
   ],
   "source": [
    "print(a)"
   ]
  },
  {
   "cell_type": "code",
   "execution_count": 41,
   "id": "a681f42c-36b6-4b24-8a3b-d2ba3f4ea1da",
   "metadata": {},
   "outputs": [],
   "source": [
    "a -= 5"
   ]
  },
  {
   "cell_type": "code",
   "execution_count": 42,
   "id": "e10b6f4b-d1fa-41e4-8f88-5f390c23f05f",
   "metadata": {},
   "outputs": [
    {
     "name": "stdout",
     "output_type": "stream",
     "text": [
      "6\n"
     ]
    }
   ],
   "source": [
    "print(a)"
   ]
  },
  {
   "cell_type": "markdown",
   "id": "b42a68c2-a1f0-427c-908f-a80eec38d196",
   "metadata": {},
   "source": [
    "# Booleanos\n",
    "### São variáveis do tipo bool\n",
    "### Retornam True se a expressão for verdadeira ou False se a expressão for falsa"
   ]
  },
  {
   "cell_type": "code",
   "execution_count": 43,
   "id": "e3d23a96-2298-4072-975c-9f545a089218",
   "metadata": {},
   "outputs": [],
   "source": [
    "s = '123'"
   ]
  },
  {
   "cell_type": "code",
   "execution_count": 44,
   "id": "710491c3-8eb2-4b8f-9a53-885f7f650a1d",
   "metadata": {},
   "outputs": [
    {
     "name": "stdout",
     "output_type": "stream",
     "text": [
      "True\n"
     ]
    }
   ],
   "source": [
    "print(s.isdigit())"
   ]
  },
  {
   "cell_type": "code",
   "execution_count": 45,
   "id": "c9139eea-1a5a-4765-ab56-364702979375",
   "metadata": {},
   "outputs": [
    {
     "name": "stdout",
     "output_type": "stream",
     "text": [
      "False\n"
     ]
    }
   ],
   "source": [
    "print(s.isalpha())"
   ]
  },
  {
   "cell_type": "code",
   "execution_count": 46,
   "id": "7980b346-2c42-486c-bff0-4722399394f8",
   "metadata": {},
   "outputs": [],
   "source": [
    "i = 'abc'"
   ]
  },
  {
   "cell_type": "code",
   "execution_count": 47,
   "id": "e7ed4f36-b932-4b11-bd2c-82fc845e827f",
   "metadata": {},
   "outputs": [
    {
     "name": "stdout",
     "output_type": "stream",
     "text": [
      "False\n"
     ]
    }
   ],
   "source": [
    "print(i.isdigit())"
   ]
  },
  {
   "cell_type": "code",
   "execution_count": 48,
   "id": "cf6c0901-170d-47e7-bc8e-d793bc1415e4",
   "metadata": {},
   "outputs": [
    {
     "name": "stdout",
     "output_type": "stream",
     "text": [
      "True\n"
     ]
    }
   ],
   "source": [
    "print(i.isalpha())"
   ]
  },
  {
   "cell_type": "code",
   "execution_count": 49,
   "id": "bb7c4bb1-476b-4b67-946c-1f10b7b0edd5",
   "metadata": {},
   "outputs": [],
   "source": [
    "u = '123abc'"
   ]
  },
  {
   "cell_type": "code",
   "execution_count": 50,
   "id": "af0ba111-6e5f-4729-936a-6f144eb06063",
   "metadata": {},
   "outputs": [
    {
     "name": "stdout",
     "output_type": "stream",
     "text": [
      "False\n"
     ]
    }
   ],
   "source": [
    "print(u.isdigit())"
   ]
  },
  {
   "cell_type": "code",
   "execution_count": 51,
   "id": "78c24e7e-f253-40b3-94ca-32606b34b586",
   "metadata": {},
   "outputs": [
    {
     "name": "stdout",
     "output_type": "stream",
     "text": [
      "False\n"
     ]
    }
   ],
   "source": [
    "print(u.isalpha())"
   ]
  },
  {
   "cell_type": "code",
   "execution_count": 52,
   "id": "543e11ea-5a9c-4f65-b71e-84d21a8e961b",
   "metadata": {},
   "outputs": [
    {
     "name": "stdout",
     "output_type": "stream",
     "text": [
      "True\n"
     ]
    }
   ],
   "source": [
    "print(u.isalnum())"
   ]
  },
  {
   "cell_type": "code",
   "execution_count": 53,
   "id": "549a35ac-f6a2-4fe0-a983-2a36bf3f3813",
   "metadata": {},
   "outputs": [],
   "source": [
    "w = 'Python'"
   ]
  },
  {
   "cell_type": "code",
   "execution_count": 54,
   "id": "b660a0eb-1481-47bd-94a4-2fa756f032dd",
   "metadata": {},
   "outputs": [
    {
     "name": "stdout",
     "output_type": "stream",
     "text": [
      "True\n"
     ]
    }
   ],
   "source": [
    "print('y' in w) # a letra \"y\" está na palavra \"Python\"?"
   ]
  },
  {
   "cell_type": "code",
   "execution_count": 55,
   "id": "3969c953-1428-4d13-8e11-af86c990a967",
   "metadata": {},
   "outputs": [
    {
     "name": "stdout",
     "output_type": "stream",
     "text": [
      "False\n"
     ]
    }
   ],
   "source": [
    "print('a' in w) # a letra \"a\" está na palavra \"Python\"?"
   ]
  },
  {
   "cell_type": "code",
   "execution_count": 56,
   "id": "d186ed65-e383-46f8-b7e5-131e3da51648",
   "metadata": {},
   "outputs": [
    {
     "name": "stdout",
     "output_type": "stream",
     "text": [
      "True\n"
     ]
    }
   ],
   "source": [
    "print('a' not in w) # a letra \"a\" não está na palavra \"Python\"?"
   ]
  },
  {
   "cell_type": "code",
   "execution_count": 57,
   "id": "8b4ebc98-9e44-49f7-8a77-b8e4ef3ccb38",
   "metadata": {},
   "outputs": [
    {
     "name": "stdout",
     "output_type": "stream",
     "text": [
      "False\n"
     ]
    }
   ],
   "source": [
    "print('t' not in w) # a letra \"t\" não está na palavra \"Python\"?"
   ]
  },
  {
   "cell_type": "code",
   "execution_count": 58,
   "id": "1a9bd736-c83e-491a-a2c5-c9e4cc8b9faa",
   "metadata": {},
   "outputs": [
    {
     "name": "stdout",
     "output_type": "stream",
     "text": [
      "False\n"
     ]
    }
   ],
   "source": [
    "print(5 == 7) # 5 é igual a 7?"
   ]
  },
  {
   "cell_type": "code",
   "execution_count": 59,
   "id": "b93aed20-82e4-43ca-9536-87e716a8b3a3",
   "metadata": {},
   "outputs": [
    {
     "name": "stdout",
     "output_type": "stream",
     "text": [
      "True\n"
     ]
    }
   ],
   "source": [
    "print(5 != 7) # 5 é diferente de 7?"
   ]
  },
  {
   "cell_type": "code",
   "execution_count": 60,
   "id": "fcc3a5da-0244-4078-8e14-7fbb3e23674a",
   "metadata": {},
   "outputs": [
    {
     "name": "stdout",
     "output_type": "stream",
     "text": [
      "True\n"
     ]
    }
   ],
   "source": [
    "print(7 > 5) # 7 é maior que 5?"
   ]
  },
  {
   "cell_type": "code",
   "execution_count": 61,
   "id": "5f993b2b-95d1-4149-91f4-4883d40a3917",
   "metadata": {},
   "outputs": [
    {
     "name": "stdout",
     "output_type": "stream",
     "text": [
      "False\n"
     ]
    }
   ],
   "source": [
    "print(1<0)# 1 é menor que 0?"
   ]
  },
  {
   "cell_type": "code",
   "execution_count": 62,
   "id": "acd23674-9f78-474d-b8c4-be32b67a299d",
   "metadata": {},
   "outputs": [
    {
     "name": "stdout",
     "output_type": "stream",
     "text": [
      "True\n"
     ]
    }
   ],
   "source": [
    "print(1>=0) # 1 é maior ou igual a 0?"
   ]
  },
  {
   "cell_type": "code",
   "execution_count": 63,
   "id": "0cf3f0da-e378-4977-8ba0-f715ac7fa0e0",
   "metadata": {},
   "outputs": [
    {
     "name": "stdout",
     "output_type": "stream",
     "text": [
      "False\n"
     ]
    }
   ],
   "source": [
    "print(2<=-8) # 2 é menor ou igual a -8?"
   ]
  },
  {
   "cell_type": "code",
   "execution_count": 64,
   "id": "07158502-6bd8-474d-8ab4-1d685a2fe55c",
   "metadata": {},
   "outputs": [
    {
     "name": "stdout",
     "output_type": "stream",
     "text": [
      "True\n"
     ]
    }
   ],
   "source": [
    "print(2 == 2 and 8 < 10) # 2 é igual a 2 e 8 menor que 10?"
   ]
  },
  {
   "cell_type": "code",
   "execution_count": 65,
   "id": "9b4188ad-3549-4d6b-874c-22fd5f40afaa",
   "metadata": {},
   "outputs": [
    {
     "name": "stdout",
     "output_type": "stream",
     "text": [
      "True\n"
     ]
    }
   ],
   "source": [
    "print(2 ==2 or 8==10) # 2 é igual a 2 ou 8 menor que 10?"
   ]
  }
 ],
 "metadata": {
  "kernelspec": {
   "display_name": "Python 3 (ipykernel)",
   "language": "python",
   "name": "python3"
  },
  "language_info": {
   "codemirror_mode": {
    "name": "ipython",
    "version": 3
   },
   "file_extension": ".py",
   "mimetype": "text/x-python",
   "name": "python",
   "nbconvert_exporter": "python",
   "pygments_lexer": "ipython3",
   "version": "3.9.7"
  }
 },
 "nbformat": 4,
 "nbformat_minor": 5
}
