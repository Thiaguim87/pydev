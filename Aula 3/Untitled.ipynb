{
 "cells": [
  {
   "cell_type": "code",
   "execution_count": 19,
   "id": "3bac6a9c",
   "metadata": {},
   "outputs": [],
   "source": [
    "#PSEUDO CÓDIGO:\n",
    "\n",
    "#se a idade do cliente for maior ou igual a idade mínima:\n",
    "\n",
    "    #O cliente pode entrar!\n",
    "    \n",
    "#Caso contrário:\n",
    "\n",
    "    #O cliente não pode entrar...\n",
    "    \n",
    "    \n",
    "#DADOS DA ATIVIDADE\n",
    "lista_de_clientes_1 = [['Isabel', 16], ['Matheus', 12], ['Pedro', 16], ['Helena', 15]]\n",
    "\n",
    "lista_de_clientes_2 = [['Isabel', 16],\n",
    "                       ['Matheus', 12]\n",
    "                       , ['Pedro', 16],\n",
    "                       ['Helena', 15],\n",
    "                       ['Heitor', 18],\n",
    "                       ['Helizia', 80],\n",
    "                       ['Hiago', 12],\n",
    "                       ['Ada', 5],\n",
    "                       ['João', 10]]"
   ]
  },
  {
   "cell_type": "code",
   "execution_count": 6,
   "id": "14de3c9f",
   "metadata": {},
   "outputs": [
    {
     "name": "stdout",
     "output_type": "stream",
     "text": [
      "O cliente não pode entrar...\n",
      "O cliente pode entrar!\n"
     ]
    }
   ],
   "source": [
    "idade_minima = 16\n",
    "\n",
    "idade_da_isabel = 16\n",
    "idade_do_matheus = 12\n",
    "\n",
    "if idade_do_matheus >= idade_minima:\n",
    "    print(\"O cliente pode entrar!\")\n",
    "else:\n",
    "    print(\"O cliente não pode entrar...\")\n",
    "    \n",
    "    \n",
    "if idade_da_isabel >= idade_minima:\n",
    "    print(\"O cliente pode entrar!\")\n",
    "else:\n",
    "    print(\"O cliente não pode entrar...\")"
   ]
  },
  {
   "cell_type": "code",
   "execution_count": 10,
   "id": "2e62bba8",
   "metadata": {},
   "outputs": [
    {
     "name": "stdout",
     "output_type": "stream",
     "text": [
      "Isabel pode entrar!\n",
      "Matheus não pode entrar...\n",
      "Pedro pode entrar!\n",
      "Helena não pode entrar...\n"
     ]
    }
   ],
   "source": [
    "clientes = lista_de_clientes_1\n",
    "\n",
    "for cliente in clientes:\n",
    "    if cliente[1] >= idade_minima:\n",
    "        print(\"{} pode entrar!\".format(cliente[0]))\n",
    "    else:\n",
    "        print(\"{} não pode entrar...\".format(cliente[0]))"
   ]
  },
  {
   "cell_type": "code",
   "execution_count": 27,
   "id": "4976fff0",
   "metadata": {},
   "outputs": [
    {
     "data": {
      "text/plain": [
       "1000"
      ]
     },
     "execution_count": 27,
     "metadata": {},
     "output_type": "execute_result"
    }
   ],
   "source": [
    "def funcao_1(X, Y):\n",
    "    resultado = X * Y\n",
    "    return resultado\n",
    "\n",
    "\n",
    "funcao_1(100, 10)"
   ]
  },
  {
   "cell_type": "code",
   "execution_count": 11,
   "id": "2eab0b70",
   "metadata": {},
   "outputs": [],
   "source": [
    "def verificacao_idade(clientes, idade_minima):\n",
    "    for cliente in clientes:\n",
    "        idade_do_cliente = cliente[1]\n",
    "        nome_do_cliente = cliente[0]\n",
    "        if idade_do_cliente >= idade_minima:\n",
    "            print(\"{} pode entrar!\".format(nome_do_cliente))\n",
    "        else:\n",
    "            print(\"{} não pode entrar...\".format(nome_do_cliente))"
   ]
  },
  {
   "cell_type": "code",
   "execution_count": 18,
   "id": "5fbc53a4",
   "metadata": {},
   "outputs": [
    {
     "name": "stdout",
     "output_type": "stream",
     "text": [
      "Isabel pode entrar!\n",
      "Matheus pode entrar!\n",
      "Pedro pode entrar!\n",
      "Helena pode entrar!\n",
      "Heitor pode entrar!\n",
      "Helizia pode entrar!\n",
      "Hiago pode entrar!\n",
      "Ada não pode entrar...\n",
      "João pode entrar!\n"
     ]
    }
   ],
   "source": [
    "clientes = lista_de_clientes_2\n",
    "verificacao_idade(clientes, 10)"
   ]
  },
  {
   "cell_type": "code",
   "execution_count": null,
   "id": "5e9a5c23",
   "metadata": {},
   "outputs": [],
   "source": []
  }
 ],
 "metadata": {
  "kernelspec": {
   "display_name": "Python 3 (ipykernel)",
   "language": "python",
   "name": "python3"
  },
  "language_info": {
   "codemirror_mode": {
    "name": "ipython",
    "version": 3
   },
   "file_extension": ".py",
   "mimetype": "text/x-python",
   "name": "python",
   "nbconvert_exporter": "python",
   "pygments_lexer": "ipython3",
   "version": "3.9.6"
  }
 },
 "nbformat": 4,
 "nbformat_minor": 5
}
