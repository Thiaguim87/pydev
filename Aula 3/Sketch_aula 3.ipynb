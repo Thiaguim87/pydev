{
 "cells": [
  {
   "cell_type": "code",
   "execution_count": 28,
   "id": "a3f76a6b",
   "metadata": {},
   "outputs": [],
   "source": [
    "#Listas de clientes\n",
    "\n",
    "lista_de_clientes_1 = [['Isabel', 16], ['Matheus', 12], ['Pedro', 16], ['Helena', 15]]\n",
    "\n",
    "lista_de_clientes_2 = [['Isabel', 16],\n",
    "                       ['Matheus', 12],\n",
    "                       ['Pedro', 16],\n",
    "                       ['Helena', 15],\n",
    "                       ['Heitor', 18],\n",
    "                       ['Helizia', 80],\n",
    "                       ['Hiago', 12],\n",
    "                       ['Ada', 5],\n",
    "                       ['João', 10],\n",
    "                       ['Carlos', 50],\n",
    "                       ['jonas', 20],\n",
    "                       ['joão2', 12],\n",
    "                       ['marcos', 14],\n",
    "                       ['felipe', 60],\n",
    "                       ['Barros', 10],\n",
    "                       ['Gabriel', 112],\n",
    "                       ['Lain', 13]]\n",
    "\n"
   ]
  },
  {
   "cell_type": "code",
   "execution_count": 27,
   "id": "c937ee02",
   "metadata": {},
   "outputs": [],
   "source": [
    "#Definindo a funções\n",
    "\n",
    "def verifica_idade(lista_de_clientes, idade_minima):\n",
    "    lista = lista_de_clientes\n",
    "    for cliente in lista:\n",
    "        if cliente[1] >= idade_minima:\n",
    "            print(f\"O cliente {cliente[0]} pode entrar!\")\n",
    "        else:\n",
    "            print(f\"O cliente {cliente[0]} não pode entrar, ele(a) é muito jovem!!\")"
   ]
  },
  {
   "cell_type": "code",
   "execution_count": 36,
   "id": "9d1fa9c0",
   "metadata": {},
   "outputs": [
    {
     "name": "stdout",
     "output_type": "stream",
     "text": [
      "O cliente Isabel não pode entrar, ele(a) é muito jovem!!\n",
      "O cliente Matheus não pode entrar, ele(a) é muito jovem!!\n",
      "O cliente Pedro não pode entrar, ele(a) é muito jovem!!\n",
      "O cliente Helena não pode entrar, ele(a) é muito jovem!!\n",
      "O cliente Heitor pode entrar!\n",
      "O cliente Helizia pode entrar!\n",
      "O cliente Hiago não pode entrar, ele(a) é muito jovem!!\n",
      "O cliente Ada não pode entrar, ele(a) é muito jovem!!\n",
      "O cliente João não pode entrar, ele(a) é muito jovem!!\n",
      "O cliente Carlos pode entrar!\n",
      "O cliente jonas pode entrar!\n",
      "O cliente joão2 não pode entrar, ele(a) é muito jovem!!\n",
      "O cliente marcos não pode entrar, ele(a) é muito jovem!!\n",
      "O cliente felipe pode entrar!\n",
      "O cliente Barros não pode entrar, ele(a) é muito jovem!!\n",
      "O cliente Gabriel pode entrar!\n",
      "O cliente Lain não pode entrar, ele(a) é muito jovem!!\n"
     ]
    }
   ],
   "source": [
    "#Chamando as funções\n",
    "\n",
    "verifica_idade(lista_de_clientes_2, 18)"
   ]
  },
  {
   "cell_type": "code",
   "execution_count": null,
   "id": "635b2b51",
   "metadata": {},
   "outputs": [],
   "source": []
  }
 ],
 "metadata": {
  "kernelspec": {
   "display_name": "Python 3 (ipykernel)",
   "language": "python",
   "name": "python3"
  },
  "language_info": {
   "codemirror_mode": {
    "name": "ipython",
    "version": 3
   },
   "file_extension": ".py",
   "mimetype": "text/x-python",
   "name": "python",
   "nbconvert_exporter": "python",
   "pygments_lexer": "ipython3",
   "version": "3.9.6"
  }
 },
 "nbformat": 4,
 "nbformat_minor": 5
}
